{
 "cells": [
  {
   "cell_type": "markdown",
   "metadata": {},
   "source": [
    "# Project"
   ]
  },
  {
   "cell_type": "code",
   "execution_count": 1,
   "metadata": {},
   "outputs": [],
   "source": [
    "import pandas as pd\n",
    "import numpy as np\n",
    "import scipy.stats as stats\n",
    "import seaborn as sns\n",
    "import matplotlib.pyplot as plt\n",
    "%matplotlib inline\n",
    "\n",
    "from sklearn.model_selection import train_test_split\n",
    "from sklearn.preprocessing import StandardScaler\n",
    "from sklearn.dummy import DummyClassifier\n",
    "from sklearn.linear_model import LogisticRegression\n",
    "from sklearn.metrics import accuracy_score, recall_score, precision_score, f1_score\n",
    "from sklearn.metrics import classification_report, plot_confusion_matrix"
   ]
  },
  {
   "cell_type": "code",
   "execution_count": 2,
   "metadata": {},
   "outputs": [],
   "source": [
    "df = pd.read_csv('data/weatherAUS.csv')"
   ]
  },
  {
   "cell_type": "code",
   "execution_count": 3,
   "metadata": {},
   "outputs": [],
   "source": [
    "df[\"Date\"] = pd.to_datetime(df[\"Date\"])   # Converting into DateTime\n",
    "df[\"Month\"] = df[\"Date\"].dt.month         # Abstracting month in new column "
   ]
  },
  {
   "cell_type": "code",
   "execution_count": 4,
   "metadata": {},
   "outputs": [],
   "source": [
    "df.drop('Evaporation', axis=1, inplace=True)    # Dropping 'Evaporation' because there are too many null values\n",
    "df.drop('Date', axis=1, inplace=True)           # Dropping 'Date' because we will only use 'Month'"
   ]
  },
  {
   "cell_type": "code",
   "execution_count": 5,
   "metadata": {},
   "outputs": [],
   "source": [
    "sunshine = {\n",
    "    'Albury': {1:12.1, 2:11.2, 3:9.7, 4: 8.1, 5:5.9, 6:4.9, 7: 4.6, 8:5.9, 9:7.5, 10:9.5, 11:10.9, 12:12},\n",
    "    'Ballarat': {1:10.2, 2:9.3, 3:7.9, 4:6.4, 5:4.6, 6:3.8, 7: 3.9, 8:4.6, 9:5.9, 10:7.2, 11:8.4, 12:9.6},\n",
    "    'Bendigo': {1:11.9, 2:11.1, 3:9.5, 4:8, 5:5.8, 6:4.9, 7:4.8, 8:5.7, 9:7.2, 10:8.9, 11:10.4, 12:11.6},\n",
    "    'GoldCoast': {1:9.1, 2:8.8, 3:8.4, 4:8.4, 5:8.3, 6:7.8, 7:8.3, 8:8.8, 9:9.2, 10:9.1, 11:9.5, 12:9.6},\n",
    "    'Katherine': {1:8.7, 2:8.6, 3:9.1, 4:9.7, 5:9.9, 6:9.9, 7:10.1, 8:10.4, 9:10.7, 10:11, 11:11, 12:10.1},\n",
    "    'Launceston': {1:9.6, 2:8, 3:6.9, 4:5.6, 5:4.9, 6:4.3, 7:4.4, 8:4.9, 9:5.9, 10:7, 11:7.9, 12:9.2},\n",
    "    'Newcastle': {1:9.5, 2:9.2, 3:8.6, 4:8.1, 5:8, 6:7.4, 7:7.8, 8:8.6, 9:9.4, 10:9.4, 11:9.7, 12:10.1},\n",
    "    'Nhil': {1:11.6, 2:10.8, 3:9.1, 4:7.6, 5:5.7, 6:5.1, 7:5.1, 8:6, 9:7, 10:8.5, 11:10, 12:11},\n",
    "    'Penrith': {1:8.1, 2:7.3, 3:7.1, 4:7.4, 5:7.7, 6:7, 7:7.6, 8:8.4, 9:8.9, 10:8.7, 11:8.5, 12:8.8},\n",
    "    'Richmond': {1:8.1, 2:7.4, 3:7.2, 4:7.3, 5:7.6, 6:6.9, 7:7.6, 8:8.4, 9:8.9, 10:8.7, 11:8.5, 12:8.9},\n",
    "    'SalmonGums': {1:9.9, 2:8.8, 3:7.9, 4:7.4, 5:6.4, 6:6.2, 7:5.8, 8:6.5, 9:7.7, 10:8.5, 11:9.5, 12:10.2},\n",
    "    'Tuggeranong': {1:9.9, 2:8.6, 3:8, 4:7, 5:6.2, 6:5, 7:5.4, 8:6.4, 9:7.7, 10:8.6, 11:9.3, 12:10.2},\n",
    "    'Uluru': {1:9.2, 2:8.6, 3:8.6, 4:8.1, 5:7.2, 6:6.3, 7:7.3, 8:8, 9:8.6, 10:9.4, 11:9.1, 12:9.4},\n",
    "    'Witchcliffe': {1:9.6, 2:9.1, 3:7.9, 4:6.9, 5:6, 6:5.8, 7:5.5, 8:5.8, 9:5.9, 10:6.7, 11:8.6, 12:9.1},\n",
    "    'Wollongong': {1:8.9, 2:8.3, 3:8, 4:8, 5:8.1, 6:7.4, 7:7.9, 8:8.5, 9:9.1, 10:9.1, 11:9.2, 12:9.5}\n",
    "}\n",
    "\n",
    "albury = {1:12.1, 2:11.2, 3:9.7, 4: 8.1, 5:5.9, 6:4.9, 7: 4.6, 8:5.9, 9:7.5, 10:9.5, 11:10.9, 12:12}\n",
    "ballarat = {1:10.2, 2:9.3, 3:7.9, 4:6.4, 5:4.6, 6:3.8, 7: 3.9, 8:4.6, 9:5.9, 10:7.2, 11:8.4, 12:9.6}\n",
    "bendigo = {1:11.9, 2:11.1, 3:9.5, 4:8, 5:5.8, 6:4.9, 7:4.8, 8:5.7, 9:7.2, 10:8.9, 11:10.4, 12:11.6}\n",
    "goldcoast = {1:9.1, 2:8.8, 3:8.4, 4:8.4, 5:8.3, 6:7.8, 7:8.3, 8:8.8, 9:9.2, 10:9.1, 11:9.5, 12:9.6}\n",
    "katherine = {1:8.7, 2:8.6, 3:9.1, 4:9.7, 5:9.9, 6:9.9, 7:10.1, 8:10.4, 9:10.7, 10:11, 11:11, 12:10.1}\n",
    "launceston = {1:9.6, 2:8, 3:6.9, 4:5.6, 5:4.9, 6:4.3, 7:4.4, 8:4.9, 9:5.9, 10:7, 11:7.9, 12:9.2}\n",
    "newcastle = {1:9.5, 2:9.2, 3:8.6, 4:8.1, 5:8, 6:7.4, 7:7.8, 8:8.6, 9:9.4, 10:9.4, 11:9.7, 12:10.1}\n",
    "nhil = {1:11.6, 2:10.8, 3:9.1, 4:7.6, 5:5.7, 6:5.1, 7:5.1, 8:6, 9:7, 10:8.5, 11:10, 12:11}\n",
    "penrith = {1:8.1, 2:7.3, 3:7.1, 4:7.4, 5:7.7, 6:7, 7:7.6, 8:8.4, 9:8.9, 10:8.7, 11:8.5, 12:8.8}\n",
    "richmond = {1:8.1, 2:7.4, 3:7.2, 4:7.3, 5:7.6, 6:6.9, 7:7.6, 8:8.4, 9:8.9, 10:8.7, 11:8.5, 12:8.9}\n",
    "salmongums = {1:9.9, 2:8.8, 3:7.9, 4:7.4, 5:6.4, 6:6.2, 7:5.8, 8:6.5, 9:7.7, 10:8.5, 11:9.5, 12:10.2}\n",
    "tuggeranong = {1:9.9, 2:8.6, 3:8, 4:7, 5:6.2, 6:5, 7:5.4, 8:6.4, 9:7.7, 10:8.6, 11:9.3, 12:10.2}\n",
    "uluru = {1:9.2, 2:8.6, 3:8.6, 4:8.1, 5:7.2, 6:6.3, 7:7.3, 8:8, 9:8.6, 10:9.4, 11:9.1, 12:9.4}\n",
    "witchcliffe = {1:9.6, 2:9.1, 3:7.9, 4:6.9, 5:6, 6:5.8, 7:5.5, 8:5.8, 9:5.9, 10:6.7, 11:8.6, 12:9.1}\n",
    "wollongong = {1:8.9, 2:8.3, 3:8, 4:8, 5:8.1, 6:7.4, 7:7.9, 8:8.5, 9:9.1, 10:9.1, 11:9.2, 12:9.5}"
   ]
  },
  {
   "cell_type": "code",
   "execution_count": null,
   "metadata": {
    "scrolled": true
   },
   "outputs": [],
   "source": [
    "df['Location'][0]"
   ]
  },
  {
   "cell_type": "code",
   "execution_count": 6,
   "metadata": {
    "scrolled": true
   },
   "outputs": [
    {
     "ename": "TypeError",
     "evalue": "'Series' objects are mutable, thus they cannot be hashed",
     "output_type": "error",
     "traceback": [
      "\u001b[1;31m---------------------------------------------------------------------------\u001b[0m",
      "\u001b[1;31mTypeError\u001b[0m                                 Traceback (most recent call last)",
      "\u001b[1;32m<ipython-input-6-4e0734f1903d>\u001b[0m in \u001b[0;36m<module>\u001b[1;34m\u001b[0m\n\u001b[1;32m----> 1\u001b[1;33m \u001b[0mdf\u001b[0m\u001b[1;33m[\u001b[0m\u001b[1;34m'Location'\u001b[0m\u001b[1;33m]\u001b[0m \u001b[1;32min\u001b[0m \u001b[0msunshine\u001b[0m\u001b[1;33m.\u001b[0m\u001b[0mkeys\u001b[0m\u001b[1;33m(\u001b[0m\u001b[1;33m)\u001b[0m\u001b[1;33m\u001b[0m\u001b[1;33m\u001b[0m\u001b[0m\n\u001b[0m",
      "\u001b[1;32m~\\anaconda3\\envs\\learn-env\\lib\\site-packages\\pandas\\core\\generic.py\u001b[0m in \u001b[0;36m__hash__\u001b[1;34m(self)\u001b[0m\n\u001b[0;32m   1666\u001b[0m \u001b[1;33m\u001b[0m\u001b[0m\n\u001b[0;32m   1667\u001b[0m     \u001b[1;32mdef\u001b[0m \u001b[0m__hash__\u001b[0m\u001b[1;33m(\u001b[0m\u001b[0mself\u001b[0m\u001b[1;33m)\u001b[0m\u001b[1;33m:\u001b[0m\u001b[1;33m\u001b[0m\u001b[1;33m\u001b[0m\u001b[0m\n\u001b[1;32m-> 1668\u001b[1;33m         raise TypeError(\n\u001b[0m\u001b[0;32m   1669\u001b[0m             \u001b[1;34mf\"{repr(type(self).__name__)} objects are mutable, \"\u001b[0m\u001b[1;33m\u001b[0m\u001b[1;33m\u001b[0m\u001b[0m\n\u001b[0;32m   1670\u001b[0m             \u001b[1;34mf\"thus they cannot be hashed\"\u001b[0m\u001b[1;33m\u001b[0m\u001b[1;33m\u001b[0m\u001b[0m\n",
      "\u001b[1;31mTypeError\u001b[0m: 'Series' objects are mutable, thus they cannot be hashed"
     ]
    }
   ],
   "source": [
    "df['Location'] in sunshine.keys()"
   ]
  },
  {
   "cell_type": "code",
   "execution_count": 23,
   "metadata": {},
   "outputs": [],
   "source": [
    "for key, values in sunshine.items():\n",
    "    for month, value in values.items():\n",
    "        df.loc[((df.Location == key) & (df.Month == month)), 'Sunshine'] = value"
   ]
  },
  {
   "cell_type": "code",
   "execution_count": 26,
   "metadata": {},
   "outputs": [
    {
     "data": {
      "text/plain": [
       "Canberra            3436\n",
       "Sydney              3344\n",
       "Brisbane            3193\n",
       "Hobart              3193\n",
       "Perth               3193\n",
       "Melbourne           3193\n",
       "Adelaide            3193\n",
       "Darwin              3193\n",
       "Launceston          3040\n",
       "Townsville          3040\n",
       "MountGinini         3040\n",
       "GoldCoast           3040\n",
       "Albury              3040\n",
       "MountGambier        3040\n",
       "Albany              3040\n",
       "Ballarat            3040\n",
       "Wollongong          3040\n",
       "Bendigo             3040\n",
       "Cairns              3040\n",
       "AliceSprings        3040\n",
       "Newcastle           3039\n",
       "Tuggeranong         3039\n",
       "Penrith             3039\n",
       "WaggaWagga          3009\n",
       "NorfolkIsland       3009\n",
       "Witchcliffe         3009\n",
       "Portland            3009\n",
       "BadgerysCreek       3009\n",
       "Sale                3009\n",
       "MelbourneAirport    3009\n",
       "Williamtown         3009\n",
       "Woomera             3009\n",
       "PearceRAAF          3009\n",
       "Nuriootpa           3009\n",
       "Dartmoor            3009\n",
       "Moree               3009\n",
       "CoffsHarbour        3009\n",
       "Cobar               3009\n",
       "PerthAirport        3009\n",
       "Mildura             3009\n",
       "Richmond            3009\n",
       "Watsonia            3009\n",
       "SydneyAirport       3009\n",
       "Walpole             3006\n",
       "NorahHead           3004\n",
       "SalmonGums          3001\n",
       "Uluru               1578\n",
       "Nhil                1578\n",
       "Katherine           1578\n",
       "Name: Location, dtype: int64"
      ]
     },
     "execution_count": 26,
     "metadata": {},
     "output_type": "execute_result"
    }
   ],
   "source": [
    "df.Location.value_counts()"
   ]
  },
  {
   "cell_type": "code",
   "execution_count": null,
   "metadata": {},
   "outputs": [],
   "source": [
    "    'NorfolkIsland': {1:7.5, 2:7.1, 3:6.5, 4:6.5, 5:5.9, 6:5.2, 7:5.9, 8:6.7, 9:7.1, 10:7.5, 11:7.9, 12:7.7},\n",
    "    'Nuriootpa': {1: 10.6, 2: 10.0, 3: 8.7, 4: 7.5, 5: 5.7, 6: 4.9, 7: 5.1, 8: 6.5, 9: 7.2, 10: 8.7, 11: 9.6, 12: 9.9},\n",
    "    'PearceRAAF': {1: 11.5, 2: 10.9, 3: 9.5, 4: 8.1, 5: 6.8, 6: 6.0, 7: 6.1, 8: 7.1, 9: 7.8, 10: 9.5, 11: 10.7, 12: 11.5},\n",
    "    'Penrith': {1:8.1, 2:7.3, 3:7.1, 4:7.4, 5:7.7, 6:7, 7:7.6, 8:8.4, 9:8.9, 10:8.7, 11:8.5, 12:8.8},\n",
    "    'Perth': {1: 10.6, 2: 10.0, 3: 8.9, 4: 7.3, 5: 5.9, 6: 4.9, 7: 5.3, 8: 6.2, 9: 7.2, 10: 8.4, 11: 9.8, 12: 10.6},\n",
    "    'PerthAirport': {1: 11.5, 2: 10.9, 3: 9.5, 4: 8.1, 5: 6.8, 6: 6.0, 7: 6.1, 8: 7.1, 9: 7.8, 10: 9.5, 11: 10.7, 12: 11.5},\n",
    "    'Portland': {1: 9.1, 2: 8.6, 3: 6.9, 4: 5.5, 5: 4.4, 6: 4.0, 7: 4.3, 8: 5.3, 9: 5.7, 10: 7.0, 11: 7.5, 12: 8.2},\n",
    "    'Richmond': {1:8.1, 2:7.4, 3:7.2, 4:7.3, 5:7.6, 6:6.9, 7:7.6, 8:8.4, 9:8.9, 10:8.7, 11:8.5, 12:8.9},\n",
    "    'Sale': {1: 8.4, 2: 7.7, 3: 6.8, 4: 6.1, 5: 4.9, 6: 4.4, 7: 5.0, 8: 5.8, 9: 6.4, 10: 7.0, 11: 7.5, 12: 7.9},\n",
    "    'SalmonGums': {1:9.9, 2:8.8, 3:7.9, 4:7.4, 5:6.4, 6:6.2, 7:5.8, 8:6.5, 9:7.7, 10:8.5, 11:9.5, 12:10.2},\n",
    "    'Sydney': {1: 7.1, 2: 6.7, 3: 6.4, 4: 6.4, 5: 5.9, 6: 5.5, 7: 6.4, 8: 7.1, 9: 7.2, 10: 7.2, 11: 7.8, 12: 7.6},\n",
    "    'SydneyAirport': {1: 7.5, 2: 7.2, 3: 6.8, 4: 7.0, 5: 6.4, 6: 5.9, 7: 6.7, 8: 7.9, 9: 8.0, 10: 7.9, 11: 7.7, 12: 7.8},\n",
    "    'Townsville': {1: 8.0, 2: 7.4, 3: 7.5, 4: 7.9, 5: 7.5, 6: 7.8, 7: 8.4, 8: 9.1, 9: 9.6, 10: 9.8, 11: 9.5, 12: 9.0},\n",
    "    'Tuggeranong': {1:9.9, 2:8.6, 3:8, 4:7, 5:6.2, 6:5, 7:5.4, 8:6.4, 9:7.7, 10:8.6, 11:9.3, 12:10.2},\n",
    "    'Uluru': {1:9.2, 2:8.6, 3:8.6, 4:8.1, 5:7.2, 6:6.3, 7:7.3, 8:8, 9:8.6, 10:9.4, 11:9.1, 12:9.4},\n",
    "    'WaggaWagga': {1: 10.8, 2: 10.1, 3: 9.3, 4: 8.2, 5: 6.3, 6: 4.6, 7: 4.8, 8: 6.4, 9: 7.6, 10: 9.2, 11: 9.7, 12: 10.4},\n",
    "    'Walpole': {1: 8.3, 2: 7.1, 3: 6.2, 4: 4.8, 5: 4.5, 6: 4.2, 7: 4.3, 8: 5.0, 9: 5.3, 10: 6.4, 11: 6.5, 12: 8.1},\n",
    "    'Watsonia': {1: 7.9, 2: 7.9, 3: 6.7, 4: 5.6, 5: 4.0, 6: 3.4, 7: 3.7, 8: 4.9, 9: 5.5, 10: 6.7, 11: 7.2, 12: 7.1},\n",
    "    'Williamtown': {1: 7.4, 2: 7.2, 3: 7.0, 4: 6.9, 5: 6.1, 6: 5.6, 7: 6.4, 8: 7.5, 9: 7.7, 10: 7.6, 11: 7.6, 12: 7.7},\n",
    "    'Witchcliffe': {1:9.6, 2:9.1, 3:7.9, 4:6.9, 5:6, 6:5.8, 7:5.5, 8:5.8, 9:5.9, 10:6.7, 11:8.6, 12:9.1},\n",
    "    'Wollongong': {1:8.9, 2:8.3, 3:8, 4:8, 5:8.1, 6:7.4, 7:7.9, 8:8.5, 9:9.1, 10:9.1, 11:9.2, 12:9.5},\n",
    "    'Woomera': {1: 11.0, 2: 10.5, 3: 9.7, 4: 8.8, 5: 7.5, 6: 6.9, 7: 7.3, 8: 8.4, 9: 9.1, 10: 9.7, 11: 10.4, 12: 10.6}"
   ]
  },
  {
   "cell_type": "code",
   "execution_count": null,
   "metadata": {},
   "outputs": [],
   "source": []
  },
  {
   "cell_type": "code",
   "execution_count": null,
   "metadata": {},
   "outputs": [],
   "source": []
  },
  {
   "cell_type": "code",
   "execution_count": null,
   "metadata": {},
   "outputs": [],
   "source": []
  }
 ],
 "metadata": {
  "kernelspec": {
   "display_name": "Python (learn-env)",
   "language": "python",
   "name": "learn-env"
  },
  "language_info": {
   "codemirror_mode": {
    "name": "ipython",
    "version": 3
   },
   "file_extension": ".py",
   "mimetype": "text/x-python",
   "name": "python",
   "nbconvert_exporter": "python",
   "pygments_lexer": "ipython3",
   "version": "3.8.5"
  }
 },
 "nbformat": 4,
 "nbformat_minor": 4
}
